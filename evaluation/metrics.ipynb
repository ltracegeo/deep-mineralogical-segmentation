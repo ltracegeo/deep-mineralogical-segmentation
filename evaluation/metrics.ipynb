{
 "cells": [
  {
   "cell_type": "code",
   "execution_count": null,
   "id": "00834d58",
   "metadata": {
    "scrolled": false
   },
   "outputs": [],
   "source": [
    "import os\n",
    "import numpy as np\n",
    "import pandas as pd\n",
    "import matplotlib.pyplot as plt\n",
    "\n",
    "from scipy.special import softmax\n",
    "from matplotlib.colors import Normalize\n",
    "from sklearn.metrics import mean_squared_error\n",
    "from sklearn.linear_model import LinearRegression"
   ]
  },
  {
   "cell_type": "code",
   "execution_count": null,
   "id": "9531d194",
   "metadata": {},
   "outputs": [],
   "source": [
    "per_image = True\n",
    "project = 'poreseg'\n",
    "\n",
    "## Use sections = None for all images (except \"total\"). Use [<section>_<depth>, ...] for individual images\n",
    "sections = None #['Dx_6295', 'Dx_6295']\n",
    "models = ['4f85f65d82694051b2cab822']\n",
    "\n",
    "all_sections = sections is None\n",
    "if per_image:\n",
    "    print('Individual images only. General (total) per-model results ignored.')\n",
    "else:\n",
    "    print('General (total) per-model results only. Individual images ignored.')"
   ]
  },
  {
   "cell_type": "code",
   "execution_count": null,
   "id": "b999d6a4",
   "metadata": {},
   "outputs": [],
   "source": [
    "element_data = pd.read_csv(os.path.join(os.sep, 'petrobr', 'parceirosbr', 'smartseg', 'datasets', project, 'unified_labels.csv'))"
   ]
  },
  {
   "cell_type": "code",
   "execution_count": null,
   "id": "b4edd444",
   "metadata": {},
   "outputs": [],
   "source": [
    "models_log = {\n",
    "    'elements': [],\n",
    "    'val_proportions': [],\n",
    "    'out_proportions': [],\n",
    "    'color_hex': [],\n",
    "    'confusion_matrix': []\n",
    "}\n",
    "\n",
    "combinations = []\n",
    "for model in models:\n",
    "    model = model.replace('Run: ', '')\n",
    "    \n",
    "    if all_sections:\n",
    "        sections = os.listdir(os.path.join(project, 'models_log', model))\n",
    "\n",
    "    for section in sections:\n",
    "        log_path = os.path.join(project, 'models_log', model, section)\n",
    "        if not os.path.exists(log_path) or (section == 'total') == per_image:\n",
    "            continue\n",
    "        \n",
    "        combinations.append((model, section))\n",
    "        log = pd.read_csv(os.path.join(log_path, 'log.csv'))\n",
    "        if os.path.exists(log_path):\n",
    "            models_log['elements'].append(log['elements'])\n",
    "            models_log['val_proportions'].append(log['val_proportions'])            \n",
    "            models_log['out_proportions'].append(log['out_proportions'])            \n",
    "            models_log['color_hex'].append(log['color_hex'])\n",
    "            models_log['confusion_matrix'].append(log[[c for c in log.columns if 'Pred.' in c]])\n",
    "\n",
    "for key in models_log:\n",
    "    models_log[key] = np.array(models_log[key])"
   ]
  },
  {
   "cell_type": "code",
   "execution_count": null,
   "id": "b80317e1",
   "metadata": {
    "scrolled": false
   },
   "outputs": [],
   "source": [
    "plt.figure(figsize = (8, 8))\n",
    "experiment = 'poro x não-poro'\n",
    "for i, element in enumerate(models_log['elements'][0]):\n",
    "    if element not in ['Desconhecido', 'Poros']:\n",
    "        experiment = 'fases minerais'\n",
    "    \n",
    "    elem_val_props = models_log['val_proportions'][:, i]\n",
    "    elem_out_props = models_log['out_proportions'][:, i]\n",
    "    \n",
    "    scatter_edgecolor = None\n",
    "    plot_color = models_log['color_hex'][0, i]\n",
    "    linestyle = '-'\n",
    "    if plot_color == '#ffffff':\n",
    "        scatter_edgecolor = 'black'\n",
    "        plot_color = '#000000'\n",
    "        linestyle = '-.'\n",
    "        \n",
    "    plt.scatter(100*elem_val_props, 100*elem_out_props, color = models_log['color_hex'][:, i], label = element, edgecolors = scatter_edgecolor)\n",
    "    lin_reg = LinearRegression().fit(elem_val_props.reshape(-1, 1), elem_out_props)\n",
    "    a, b = lin_reg.coef_[0], lin_reg.intercept_\n",
    "    x = np.arange(elem_val_props.min(), elem_val_props.max() + 0.01, 0.01)\n",
    "    plt.plot(100*x, 100*(a*x + b), color = plot_color, label = element, linestyle = linestyle)\n",
    "\n",
    "elem_val_props = models_log['val_proportions'].flatten()\n",
    "elem_out_props = models_log['out_proportions'].flatten()\n",
    "    \n",
    "lin_reg = LinearRegression().fit(elem_out_props.reshape(-1, 1), elem_val_props)\n",
    "a, b = lin_reg.coef_[0], lin_reg.intercept_\n",
    "x = np.arange(elem_val_props.min(), elem_val_props.max() + 0.01, 0.01)\n",
    "plt.plot(100*x, 100*(a*x + b), color = 'red', label = 'Total', linestyle = '--')    \n",
    "\n",
    "R2 = lin_reg.score(elem_out_props.reshape(-1, 1), elem_val_props)\n",
    "RMSE = mean_squared_error(elem_val_props, a * elem_out_props + b, squared = False)\n",
    "\n",
    "plt.title('Correlação - ' + experiment + '\\nR² =' + '{:.4f}'.format(R2) + '\\nRMSE = ' + '{:.4f}'.format(RMSE))\n",
    "plt.xlabel('Ocorrências verdadeiras (%)')\n",
    "plt.ylabel('Ocorrências no(s) modelo(s) preditivo(s) (%)')\n",
    "plt.legend()\n",
    "plt.show()"
   ]
  },
  {
   "cell_type": "code",
   "execution_count": null,
   "id": "44cf11e7",
   "metadata": {
    "scrolled": false
   },
   "outputs": [],
   "source": [
    "import seaborn as sns\n",
    "\n",
    "n_combinations = len(combinations)\n",
    "\n",
    "subplot_cols = min(n_combinations, 3)\n",
    "subplot_rows = int(np.ceil(n_combinations/subplot_cols))\n",
    "\n",
    "plt.figure(figsize = (max(16, int(1.5*n_combinations)), max(16, int(1.5*n_combinations))))\n",
    "plt.suptitle('Matrizes de confusão')\n",
    "for mi in range(n_combinations):\n",
    "    subplot_i = mi + 1\n",
    "    plt.subplot(subplot_rows, subplot_cols, subplot_i)\n",
    "    sns.heatmap(models_log['confusion_matrix'][mi], annot = True, cmap = 'gray',\n",
    "                xticklabels = list(models_log['elements'][mi]), yticklabels = list(models_log['elements'][mi]))\n",
    "    #plt.imshow(models_log['confusion_matrix'][mi], cmap = 'gray', norm = Normalize(0, 1))\n",
    "    #if  mi+subplot_cols >= n_combinations:\n",
    "    #    plt.xticks(range(len(models_log['elements'][mi])), list(models_log['elements'][mi]), rotation = 'vertical')\n",
    "    #else:\n",
    "    #    plt.xticks([])\n",
    "    #if mi%subplot_cols == 0:\n",
    "    #    plt.yticks(range(len(models_log['elements'][mi])), list(models_log['elements'][mi]))\n",
    "    #else:\n",
    "    #    plt.yticks([])\n",
    "    \n",
    "    model, key = combinations[mi]\n",
    "    plt.title('Model: ' + model[:3] + '...' + model[-3:] + '\\n' + key)\n",
    "plt.show()"
   ]
  },
  {
   "cell_type": "code",
   "execution_count": null,
   "id": "2f56ecf5",
   "metadata": {},
   "outputs": [],
   "source": [
    "dice = np.random.uniform(size = 53)\n",
    "images = [str(i) for i in range(53)]\n",
    "\n",
    "plt.figure(figsize = (12, 12))\n",
    "plt.bar(range(len(dice)), dice)\n",
    "plt.axhline(y = np.mean(dice), color = 'orange', label = 'Média')\n",
    "plt.xticks(range(len(dice)), labels = images, rotation = 'vertical')\n",
    "plt.title('Validação Leave-One-Out')\n",
    "plt.xlabel('Imagem')\n",
    "plt.ylabel('Dice')\n",
    "plt.legend()\n",
    "plt.show()"
   ]
  },
  {
   "cell_type": "code",
   "execution_count": null,
   "id": "172e7ec5",
   "metadata": {},
   "outputs": [],
   "source": []
  }
 ],
 "metadata": {
  "kernelspec": {
   "display_name": "Python 3 (ipykernel)",
   "language": "python",
   "name": "python3"
  },
  "language_info": {
   "codemirror_mode": {
    "name": "ipython",
    "version": 3
   },
   "file_extension": ".py",
   "mimetype": "text/x-python",
   "name": "python",
   "nbconvert_exporter": "python",
   "pygments_lexer": "ipython3",
   "version": "3.9.6"
  }
 },
 "nbformat": 4,
 "nbformat_minor": 5
}
